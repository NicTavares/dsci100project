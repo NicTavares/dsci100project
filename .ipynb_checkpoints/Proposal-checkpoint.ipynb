{
 "cells": [
  {
   "cell_type": "code",
   "execution_count": 1,
   "metadata": {},
   "outputs": [
    {
     "name": "stderr",
     "output_type": "stream",
     "text": [
      "── \u001b[1mAttaching packages\u001b[22m ─────────────────────────────────────── tidyverse 1.3.0 ──\n",
      "\n",
      "\u001b[32m✔\u001b[39m \u001b[34mggplot2\u001b[39m 3.2.1     \u001b[32m✔\u001b[39m \u001b[34mpurrr  \u001b[39m 0.3.3\n",
      "\u001b[32m✔\u001b[39m \u001b[34mtibble \u001b[39m 2.1.3     \u001b[32m✔\u001b[39m \u001b[34mdplyr  \u001b[39m 0.8.4\n",
      "\u001b[32m✔\u001b[39m \u001b[34mtidyr  \u001b[39m 1.0.2     \u001b[32m✔\u001b[39m \u001b[34mstringr\u001b[39m 1.4.0\n",
      "\u001b[32m✔\u001b[39m \u001b[34mreadr  \u001b[39m 1.3.1     \u001b[32m✔\u001b[39m \u001b[34mforcats\u001b[39m 0.4.0\n",
      "\n",
      "── \u001b[1mConflicts\u001b[22m ────────────────────────────────────────── tidyverse_conflicts() ──\n",
      "\u001b[31m✖\u001b[39m \u001b[34mdplyr\u001b[39m::\u001b[32mfilter()\u001b[39m masks \u001b[34mstats\u001b[39m::filter()\n",
      "\u001b[31m✖\u001b[39m \u001b[34mdplyr\u001b[39m::\u001b[32mlag()\u001b[39m    masks \u001b[34mstats\u001b[39m::lag()\n",
      "\n",
      "Loading required package: lattice\n",
      "\n",
      "\n",
      "Attaching package: ‘caret’\n",
      "\n",
      "\n",
      "The following object is masked from ‘package:purrr’:\n",
      "\n",
      "    lift\n",
      "\n",
      "\n"
     ]
    }
   ],
   "source": [
    "library(tidyverse)\n",
    "library(caret)"
   ]
  },
  {
   "cell_type": "markdown",
   "metadata": {},
   "source": [
    "# Predicting Tennis Match Winners"
   ]
  },
  {
   "cell_type": "markdown",
   "metadata": {},
   "source": [
    "# Introduction"
   ]
  },
  {
   "cell_type": "markdown",
   "metadata": {},
   "source": [
    "The US Open grand slam tennis tournament has an estimated total prize money pool of USD $50.4 million. This puts it in line with high-value tournaments such as the MLB World Series and the PGA FedEx Cup (source: pledgesports.org). With such a high potential payoff, there is much incentive for competitive tennis athletes and coaches to understand the player attributes that contribute to tournament success. \n",
    "\n",
    "This project will study the data of tennis match results collected for the top 500 tennis players. The purpose of the study is to determine whether certain attributes to greater competitive success by analyzing player and match information. The dataset contains results from nearly 7,000 matches and includes the winner and loser heights, playing hands, countries of origin, ages, match times and other information (source: https://github.com/JeffSackmann/tennis_atp). "
   ]
  },
  {
   "cell_type": "markdown",
   "metadata": {},
   "source": [
    "# Preliminary Exploratory Data Analysis"
   ]
  },
  {
   "cell_type": "code",
   "execution_count": 2,
   "metadata": {},
   "outputs": [
    {
     "name": "stderr",
     "output_type": "stream",
     "text": [
      "Parsed with column specification:\n",
      "cols(\n",
      "  .default = col_double(),\n",
      "  tourney_id = \u001b[31mcol_character()\u001b[39m,\n",
      "  tourney_name = \u001b[31mcol_character()\u001b[39m,\n",
      "  surface = \u001b[31mcol_character()\u001b[39m,\n",
      "  tourney_level = \u001b[31mcol_character()\u001b[39m,\n",
      "  winner_entry = \u001b[31mcol_character()\u001b[39m,\n",
      "  winner_name = \u001b[31mcol_character()\u001b[39m,\n",
      "  winner_hand = \u001b[31mcol_character()\u001b[39m,\n",
      "  winner_ioc = \u001b[31mcol_character()\u001b[39m,\n",
      "  loser_entry = \u001b[31mcol_character()\u001b[39m,\n",
      "  loser_name = \u001b[31mcol_character()\u001b[39m,\n",
      "  loser_hand = \u001b[31mcol_character()\u001b[39m,\n",
      "  loser_ioc = \u001b[31mcol_character()\u001b[39m,\n",
      "  score = \u001b[31mcol_character()\u001b[39m,\n",
      "  round = \u001b[31mcol_character()\u001b[39m\n",
      ")\n",
      "\n",
      "See spec(...) for full column specifications.\n",
      "\n",
      "Parsed with column specification:\n",
      "cols(\n",
      "  .default = col_double(),\n",
      "  tourney_id = \u001b[31mcol_character()\u001b[39m,\n",
      "  tourney_name = \u001b[31mcol_character()\u001b[39m,\n",
      "  surface = \u001b[31mcol_character()\u001b[39m,\n",
      "  tourney_level = \u001b[31mcol_character()\u001b[39m,\n",
      "  winner_entry = \u001b[31mcol_character()\u001b[39m,\n",
      "  winner_name = \u001b[31mcol_character()\u001b[39m,\n",
      "  winner_hand = \u001b[31mcol_character()\u001b[39m,\n",
      "  winner_ioc = \u001b[31mcol_character()\u001b[39m,\n",
      "  loser_entry = \u001b[31mcol_character()\u001b[39m,\n",
      "  loser_name = \u001b[31mcol_character()\u001b[39m,\n",
      "  loser_hand = \u001b[31mcol_character()\u001b[39m,\n",
      "  loser_ioc = \u001b[31mcol_character()\u001b[39m,\n",
      "  score = \u001b[31mcol_character()\u001b[39m,\n",
      "  round = \u001b[31mcol_character()\u001b[39m\n",
      ")\n",
      "\n",
      "See spec(...) for full column specifications.\n",
      "\n",
      "Parsed with column specification:\n",
      "cols(\n",
      "  .default = col_double(),\n",
      "  tourney_id = \u001b[31mcol_character()\u001b[39m,\n",
      "  tourney_name = \u001b[31mcol_character()\u001b[39m,\n",
      "  surface = \u001b[31mcol_character()\u001b[39m,\n",
      "  tourney_level = \u001b[31mcol_character()\u001b[39m,\n",
      "  winner_seed = \u001b[31mcol_character()\u001b[39m,\n",
      "  winner_entry = \u001b[31mcol_character()\u001b[39m,\n",
      "  winner_name = \u001b[31mcol_character()\u001b[39m,\n",
      "  winner_hand = \u001b[31mcol_character()\u001b[39m,\n",
      "  winner_ioc = \u001b[31mcol_character()\u001b[39m,\n",
      "  loser_seed = \u001b[31mcol_character()\u001b[39m,\n",
      "  loser_entry = \u001b[31mcol_character()\u001b[39m,\n",
      "  loser_name = \u001b[31mcol_character()\u001b[39m,\n",
      "  loser_hand = \u001b[31mcol_character()\u001b[39m,\n",
      "  loser_ioc = \u001b[31mcol_character()\u001b[39m,\n",
      "  score = \u001b[31mcol_character()\u001b[39m,\n",
      "  round = \u001b[31mcol_character()\u001b[39m\n",
      ")\n",
      "\n",
      "See spec(...) for full column specifications.\n",
      "\n"
     ]
    },
    {
     "data": {
      "text/html": [
       "<table>\n",
       "<caption>A tibble: 6 × 6</caption>\n",
       "<thead>\n",
       "\t<tr><th scope=col>minutes</th><th scope=col>hand</th><th scope=col>age</th><th scope=col>height</th><th scope=col>aces</th><th scope=col>result</th></tr>\n",
       "\t<tr><th scope=col>&lt;dbl&gt;</th><th scope=col>&lt;chr&gt;</th><th scope=col>&lt;dbl&gt;</th><th scope=col>&lt;dbl&gt;</th><th scope=col>&lt;dbl&gt;</th><th scope=col>&lt;fct&gt;</th></tr>\n",
       "</thead>\n",
       "<tbody>\n",
       "\t<tr><td> 91</td><td>R</td><td>30.89391</td><td>193</td><td>11</td><td>w</td></tr>\n",
       "\t<tr><td>130</td><td>R</td><td>21.98494</td><td> NA</td><td>11</td><td>w</td></tr>\n",
       "\t<tr><td>125</td><td>R</td><td>22.85832</td><td>185</td><td> 7</td><td>w</td></tr>\n",
       "\t<tr><td> 75</td><td>R</td><td>20.23272</td><td> NA</td><td>12</td><td>w</td></tr>\n",
       "\t<tr><td> 90</td><td>R</td><td>22.70500</td><td> NA</td><td> 1</td><td>w</td></tr>\n",
       "\t<tr><td> 83</td><td>R</td><td>34.75428</td><td>175</td><td> 3</td><td>w</td></tr>\n",
       "</tbody>\n",
       "</table>\n"
      ],
      "text/latex": [
       "A tibble: 6 × 6\n",
       "\\begin{tabular}{llllll}\n",
       " minutes & hand & age & height & aces & result\\\\\n",
       " <dbl> & <chr> & <dbl> & <dbl> & <dbl> & <fct>\\\\\n",
       "\\hline\n",
       "\t  91 & R & 30.89391 & 193 & 11 & w\\\\\n",
       "\t 130 & R & 21.98494 &  NA & 11 & w\\\\\n",
       "\t 125 & R & 22.85832 & 185 &  7 & w\\\\\n",
       "\t  75 & R & 20.23272 &  NA & 12 & w\\\\\n",
       "\t  90 & R & 22.70500 &  NA &  1 & w\\\\\n",
       "\t  83 & R & 34.75428 & 175 &  3 & w\\\\\n",
       "\\end{tabular}\n"
      ],
      "text/markdown": [
       "\n",
       "A tibble: 6 × 6\n",
       "\n",
       "| minutes &lt;dbl&gt; | hand &lt;chr&gt; | age &lt;dbl&gt; | height &lt;dbl&gt; | aces &lt;dbl&gt; | result &lt;fct&gt; |\n",
       "|---|---|---|---|---|---|\n",
       "|  91 | R | 30.89391 | 193 | 11 | w |\n",
       "| 130 | R | 21.98494 |  NA | 11 | w |\n",
       "| 125 | R | 22.85832 | 185 |  7 | w |\n",
       "|  75 | R | 20.23272 |  NA | 12 | w |\n",
       "|  90 | R | 22.70500 |  NA |  1 | w |\n",
       "|  83 | R | 34.75428 | 175 |  3 | w |\n",
       "\n"
      ],
      "text/plain": [
       "  minutes hand age      height aces result\n",
       "1  91     R    30.89391 193    11   w     \n",
       "2 130     R    21.98494  NA    11   w     \n",
       "3 125     R    22.85832 185     7   w     \n",
       "4  75     R    20.23272  NA    12   w     \n",
       "5  90     R    22.70500  NA     1   w     \n",
       "6  83     R    34.75428 175     3   w     "
      ]
     },
     "metadata": {},
     "output_type": "display_data"
    }
   ],
   "source": [
    "data2017 <- read_csv('https://raw.githubusercontent.com/JeffSackmann/tennis_atp/master/atp_matches_2017.csv')\n",
    "data2018 <- read_csv('https://raw.githubusercontent.com/JeffSackmann/tennis_atp/master/atp_matches_2018.csv')\n",
    "data2019 <- read_csv('https://raw.githubusercontent.com/JeffSackmann/tennis_atp/master/atp_matches_2019.csv')\n",
    "\n",
    "combined_data <- rbind(data2017, data2018, data2019)\n",
    "\n",
    "tennis <- combined_data %>% \n",
    "    select(winner_hand, loser_hand, winner_age, loser_age, winner_ht, loser_ht, minutes, w_ace, l_ace)\n",
    "\n",
    "tennis_win = select(tennis, winner_hand, winner_age, winner_ht, minutes, w_ace)\n",
    "tennis_loss = select(tennis, loser_hand, loser_age, loser_ht, minutes, l_ace)\n",
    "\n",
    "tennis_win = mutate(tennis_win, hand = winner_hand, age = winner_age, height = winner_ht, aces = w_ace, result = 'w') %>%\n",
    "            select(-winner_hand, -winner_age, -winner_ht, -w_ace)\n",
    "tennis_loss = mutate(tennis_loss, hand = loser_hand, age = loser_age, height = loser_ht, aces = l_ace, result = 'l') %>%\n",
    "            select(-loser_hand, -loser_age, -loser_ht, -l_ace)\n",
    "\n",
    "cleaned_data = rbind(tennis_win, tennis_loss)\n",
    "\n",
    "cleaned_data = mutate(cleaned_data, result = as.factor(result))\n",
    "\n",
    "head(cleaned_data)\n",
    "\n",
    "training_rows <- cleaned_data %>%\n",
    "    select(result) %>% \n",
    "    unlist() %>%\n",
    "    createDataPartition (p = 0.75 , list = FALSE)\n",
    "\n",
    "training_set <- tennis %>% slice (training_rows)\n",
    "testing_set <- tennis %>% slice (-training_rows)"
   ]
  },
  {
   "cell_type": "markdown",
   "metadata": {},
   "source": [
    "# Methods"
   ]
  },
  {
   "cell_type": "markdown",
   "metadata": {},
   "source": [
    "In order to wrangle our data, we have to use the read_csv() function on the raw links to the data on: https://github.com/JeffSackmann/tennis_atp. Because we are looking across three years of data we read 3 files and combine them using the rbind() function. Cleaning the data involved separating the winners and losers, creating a new result column, and then recombining them into one cleaned data set.\n",
    "\n",
    "For classification analysis we will be using the following columns:\n",
    "\n",
    "* item winner_hand (the dominant hand of the winner)\n",
    "* item loser_hand (the dominant hand of the loser)\n",
    "* item winner_age \n",
    "* item loser_age\n",
    "* item winner_ht (the height of the winner)\n",
    "* item loser_ht (the height of the loser)\n",
    "* item minutes (The length of the match)\n",
    "* item w_ace (number of aces the winner had)\n",
    "* item l_ace (the number aces the loser had)\n",
    "\n",
    "and creating a knn-model in order to classify a whether or not a hypothetical player with given attributes will be able to win their match. We will be removing the left over columns from the set as they are not variables of interest for this analysis.\n",
    "\n",
    "A visualisation we will create is a plot of height versus aces and colour the points by whether they were wins or losses."
   ]
  },
  {
   "cell_type": "code",
   "execution_count": null,
   "metadata": {},
   "outputs": [],
   "source": []
  },
  {
   "cell_type": "markdown",
   "metadata": {},
   "source": [
    "# Expected outcomes and significance"
   ]
  },
  {
   "cell_type": "markdown",
   "metadata": {},
   "source": []
  }
 ],
 "metadata": {
  "kernelspec": {
   "display_name": "R",
   "language": "R",
   "name": "ir"
  },
  "language_info": {
   "codemirror_mode": "r",
   "file_extension": ".r",
   "mimetype": "text/x-r-source",
   "name": "R",
   "pygments_lexer": "r",
   "version": "3.6.2"
  }
 },
 "nbformat": 4,
 "nbformat_minor": 4
}
