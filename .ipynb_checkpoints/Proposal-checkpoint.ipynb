{
 "cells": [
  {
   "cell_type": "code",
   "execution_count": 3,
   "metadata": {},
   "outputs": [
    {
     "name": "stderr",
     "output_type": "stream",
     "text": [
      "also installing the dependency ‘reshape’\n",
      "\n",
      "\n"
     ]
    },
    {
     "name": "stdout",
     "output_type": "stream",
     "text": [
      "\n",
      "The downloaded binary packages are in\n",
      "\t/var/folders/mn/w1m_3v8j6ys7d3x9hm7v2ykr0000gn/T//Rtmpe4W5B4/downloaded_packages\n"
     ]
    },
    {
     "name": "stderr",
     "output_type": "stream",
     "text": [
      "Registered S3 method overwritten by 'GGally':\n",
      "  method from   \n",
      "  +.gg   ggplot2\n",
      "\n",
      "\n",
      "Attaching package: ‘GGally’\n",
      "\n",
      "\n",
      "The following object is masked from ‘package:dplyr’:\n",
      "\n",
      "    nasa\n",
      "\n",
      "\n"
     ]
    }
   ],
   "source": [
    "install.packages(\"GGally\")\n",
    "library(tidyverse)\n",
    "library(caret)\n",
    "library(ggplot2)\n",
    "library(GGally)"
   ]
  },
  {
   "cell_type": "markdown",
   "metadata": {},
   "source": [
    "# Predicting Tennis Match Winners"
   ]
  },
  {
   "cell_type": "markdown",
   "metadata": {},
   "source": [
    "# Introduction"
   ]
  },
  {
   "cell_type": "markdown",
   "metadata": {},
   "source": [
    "The US Open grand slam tennis tournament has an estimated total prize money pool of USD $50.4 million. This puts it in line with high-value tournaments such as the MLB World Series and the PGA FedEx Cup (source: pledgesports.org). With such a high potential payoff, there is much incentive for competitive tennis athletes and coaches to understand the player attributes that contribute to tournament success. \n",
    "\n",
    "This project will study the data of tennis match results collected for the top 500 tennis players. The purpose of the study is to determine whether certain attributes contribute to greater competitive success by analyzing player and match information. The dataset contains results from nearly 7,000 matches and includes the winner and loser heights, playing hands, countries of origin, ages, match times and other information (source: https://github.com/JeffSackmann/tennis_atp). "
   ]
  },
  {
   "cell_type": "markdown",
   "metadata": {},
   "source": [
    "# Preliminary Exploratory Data Analysis"
   ]
  },
  {
   "cell_type": "code",
   "execution_count": 9,
   "metadata": {},
   "outputs": [
    {
     "data": {
      "text/html": [
       "<table>\n",
       "<caption>A tibble: 6 × 6</caption>\n",
       "<thead>\n",
       "\t<tr><th scope=col>minutes</th><th scope=col>hand</th><th scope=col>age</th><th scope=col>height</th><th scope=col>aces</th><th scope=col>result</th></tr>\n",
       "\t<tr><th scope=col>&lt;dbl&gt;</th><th scope=col>&lt;chr&gt;</th><th scope=col>&lt;dbl&gt;</th><th scope=col>&lt;dbl&gt;</th><th scope=col>&lt;dbl&gt;</th><th scope=col>&lt;fct&gt;</th></tr>\n",
       "</thead>\n",
       "<tbody>\n",
       "\t<tr><td> 58</td><td>L</td><td>26.39836</td><td>190</td><td> 2</td><td>l</td></tr>\n",
       "\t<tr><td> 66</td><td>L</td><td>26.95688</td><td>185</td><td> 6</td><td>w</td></tr>\n",
       "\t<tr><td>116</td><td>R</td><td>22.34908</td><td> NA</td><td> 1</td><td>l</td></tr>\n",
       "\t<tr><td> NA</td><td>U</td><td>16.36140</td><td> NA</td><td> 3</td><td>l</td></tr>\n",
       "\t<tr><td>137</td><td>R</td><td>34.41205</td><td>183</td><td> 0</td><td>l</td></tr>\n",
       "\t<tr><td> NA</td><td>R</td><td>32.09582</td><td>185</td><td>NA</td><td>l</td></tr>\n",
       "</tbody>\n",
       "</table>\n"
      ],
      "text/latex": [
       "A tibble: 6 × 6\n",
       "\\begin{tabular}{llllll}\n",
       " minutes & hand & age & height & aces & result\\\\\n",
       " <dbl> & <chr> & <dbl> & <dbl> & <dbl> & <fct>\\\\\n",
       "\\hline\n",
       "\t  58 & L & 26.39836 & 190 &  2 & l\\\\\n",
       "\t  66 & L & 26.95688 & 185 &  6 & w\\\\\n",
       "\t 116 & R & 22.34908 &  NA &  1 & l\\\\\n",
       "\t  NA & U & 16.36140 &  NA &  3 & l\\\\\n",
       "\t 137 & R & 34.41205 & 183 &  0 & l\\\\\n",
       "\t  NA & R & 32.09582 & 185 & NA & l\\\\\n",
       "\\end{tabular}\n"
      ],
      "text/markdown": [
       "\n",
       "A tibble: 6 × 6\n",
       "\n",
       "| minutes &lt;dbl&gt; | hand &lt;chr&gt; | age &lt;dbl&gt; | height &lt;dbl&gt; | aces &lt;dbl&gt; | result &lt;fct&gt; |\n",
       "|---|---|---|---|---|---|\n",
       "|  58 | L | 26.39836 | 190 |  2 | l |\n",
       "|  66 | L | 26.95688 | 185 |  6 | w |\n",
       "| 116 | R | 22.34908 |  NA |  1 | l |\n",
       "|  NA | U | 16.36140 |  NA |  3 | l |\n",
       "| 137 | R | 34.41205 | 183 |  0 | l |\n",
       "|  NA | R | 32.09582 | 185 | NA | l |\n",
       "\n"
      ],
      "text/plain": [
       "  minutes hand age      height aces result\n",
       "1  58     L    26.39836 190     2   l     \n",
       "2  66     L    26.95688 185     6   w     \n",
       "3 116     R    22.34908  NA     1   l     \n",
       "4  NA     U    16.36140  NA     3   l     \n",
       "5 137     R    34.41205 183     0   l     \n",
       "6  NA     R    32.09582 185    NA   l     "
      ]
     },
     "metadata": {},
     "output_type": "display_data"
    },
    {
     "name": "stderr",
     "output_type": "stream",
     "text": [
      "Warning message in warn_if_args_exist(list(...)):\n",
      "“Extra arguments: 'label' are being ignored.  If these are meant to be aesthetics, submit them using the 'mapping' variable within ggpairs with ggplot2::aes or ggplot2::aes_string.”\n"
     ]
    },
    {
     "ename": "ERROR",
     "evalue": "Error in ggpairs(data_set, label = TRUE, title = \"Data Name\", lower = list(continuous = wrap(\"smooth\", : object 'data_set' not found\n",
     "output_type": "error",
     "traceback": [
      "Error in ggpairs(data_set, label = TRUE, title = \"Data Name\", lower = list(continuous = wrap(\"smooth\", : object 'data_set' not found\nTraceback:\n",
      "1. ggpairs(data_set, label = TRUE, title = \"Data Name\", lower = list(continuous = wrap(\"smooth\", \n .     alpha = 0.3, size = 0.3)))"
     ]
    }
   ],
   "source": [
    "set.seed(42)\n",
    "data2017 <- read_csv('https://raw.githubusercontent.com/JeffSackmann/tennis_atp/master/atp_matches_2017.csv', col_types = cols())\n",
    "data2018 <- read_csv('https://raw.githubusercontent.com/JeffSackmann/tennis_atp/master/atp_matches_2018.csv', col_types = cols())\n",
    "data2019 <- read_csv('https://raw.githubusercontent.com/JeffSackmann/tennis_atp/master/atp_matches_2019.csv', col_types = cols())\n",
    "\n",
    "combined_data <- rbind(data2017, data2018, data2019)\n",
    "\n",
    "tennis <- combined_data %>% \n",
    "    select(winner_hand, loser_hand, winner_age, loser_age, winner_ht, loser_ht, minutes, w_ace, l_ace)\n",
    "\n",
    "tennis_win = select(tennis, winner_hand, winner_age, winner_ht, minutes, w_ace)\n",
    "tennis_loss = select(tennis, loser_hand, loser_age, loser_ht, minutes, l_ace)\n",
    "\n",
    "tennis_win = mutate(tennis_win, hand = winner_hand, age = winner_age, height = winner_ht, aces = w_ace, result = 'w') %>%\n",
    "            select(-winner_hand, -winner_age, -winner_ht, -w_ace)\n",
    "tennis_loss = mutate(tennis_loss, hand = loser_hand, age = loser_age, height = loser_ht, aces = l_ace, result = 'l') %>%\n",
    "            select(-loser_hand, -loser_age, -loser_ht, -l_ace)\n",
    "\n",
    "cleaned_data = rbind(tennis_win, tennis_loss)\n",
    "\n",
    "cleaned_data = mutate(cleaned_data, result = as.factor(result))\n",
    "\n",
    "rows = sample(nrow(cleaned_data))\n",
    "\n",
    "cleaned_data = cleaned_data[rows, ]\n",
    "\n",
    "head(cleaned_data)\n",
    "\n",
    "training_rows <- cleaned_data %>%\n",
    "    select(result) %>% \n",
    "    unlist() %>%\n",
    "    createDataPartition (p = 0.75 , list = FALSE)\n",
    "\n",
    "training_set <- tennis %>% slice (training_rows)\n",
    "testing_set <- tennis %>% slice (-training_rows)\n",
    "\n",
    "\n",
    "tennis_plots <- ggpairs(data_set, label = TRUE, title = \"Data Name\", lower = list(continuous = wrap(\"smooth\", alpha = 0.3, size=0.3)))\n",
    "tennis_matrix <- ggcorr(data_set, label = TRUE, title = \"Data Name\")\n",
    "options (repr.plot.width=6, repr.plot.height=6)\n",
    "\n",
    "tennis_plots\n",
    "tennis_matrix"
   ]
  },
  {
   "cell_type": "markdown",
   "metadata": {},
   "source": [
    "There are two goals we want to achieve with our visualization:\n",
    "- The correlation between our predicting variables. If there is one variable highly correlated to another, we might eliminate them and simplify the modelling process\n",
    "- The correlation between our predicting variables with our labeling variables\n",
    "We achieve this by using ggpair() and ggcorr() functions. While ggpair() gives us a comprehensive view of how each variable correlates to each other through histograms, box plots, regression model and more, ggcorr() provides a more straightforward matrix with results of correlation between variables."
   ]
  },
  {
   "cell_type": "markdown",
   "metadata": {},
   "source": [
    "# Methods"
   ]
  },
  {
   "cell_type": "markdown",
   "metadata": {},
   "source": [
    "In order to wrangle our data, we have to use the read_csv() function on the raw links to the data on: https://github.com/JeffSackmann/tennis_atp. Because we are looking across three years of data we read 3 files and combine them using the rbind() function. Cleaning the data involved separating the winners and losers, creating a new result column, and then recombining them into one cleaned data set.\n",
    "\n",
    "For classification analysis we will be using the following columns:\n",
    "\n",
    "* item winner_hand (the dominant hand of the winner)\n",
    "* item loser_hand (the dominant hand of the loser)\n",
    "* item winner_age \n",
    "* item loser_age\n",
    "* item winner_ht (the height of the winner)\n",
    "* item loser_ht (the height of the loser)\n",
    "* item minutes (The length of the match)\n",
    "* item w_ace (number of aces the winner had)\n",
    "* item l_ace (the number aces the loser had)\n",
    "\n",
    "and creating a knn-model in order to classify a whether or not a hypothetical player with given attributes will be able to win their match. We will be removing the left over columns from the set as they are not variables of interest for this analysis.\n",
    "\n",
    "A visualisation we will create is a plot of height versus aces and colour the points by whether they were wins or losses."
   ]
  },
  {
   "cell_type": "code",
   "execution_count": null,
   "metadata": {},
   "outputs": [],
   "source": []
  },
  {
   "cell_type": "markdown",
   "metadata": {},
   "source": [
    "# Expected outcomes and significance"
   ]
  },
  {
   "cell_type": "markdown",
   "metadata": {},
   "source": []
  }
 ],
 "metadata": {
  "kernelspec": {
   "display_name": "R",
   "language": "R",
   "name": "ir"
  },
  "language_info": {
   "codemirror_mode": "r",
   "file_extension": ".r",
   "mimetype": "text/x-r-source",
   "name": "R",
   "pygments_lexer": "r",
   "version": "3.6.2"
  }
 },
 "nbformat": 4,
 "nbformat_minor": 4
}
