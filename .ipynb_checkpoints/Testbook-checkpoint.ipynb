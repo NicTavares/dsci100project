{
 "cells": [
  {
   "cell_type": "code",
   "execution_count": 1,
   "metadata": {},
   "outputs": [
    {
     "name": "stderr",
     "output_type": "stream",
     "text": [
      "── \u001b[1mAttaching packages\u001b[22m ─────────────────────────────────────── tidyverse 1.3.0 ──\n",
      "\n",
      "\u001b[32m✔\u001b[39m \u001b[34mggplot2\u001b[39m 3.2.1     \u001b[32m✔\u001b[39m \u001b[34mpurrr  \u001b[39m 0.3.3\n",
      "\u001b[32m✔\u001b[39m \u001b[34mtibble \u001b[39m 2.1.3     \u001b[32m✔\u001b[39m \u001b[34mdplyr  \u001b[39m 0.8.3\n",
      "\u001b[32m✔\u001b[39m \u001b[34mtidyr  \u001b[39m 1.0.0     \u001b[32m✔\u001b[39m \u001b[34mstringr\u001b[39m 1.4.0\n",
      "\u001b[32m✔\u001b[39m \u001b[34mreadr  \u001b[39m 1.3.1     \u001b[32m✔\u001b[39m \u001b[34mforcats\u001b[39m 0.4.0\n",
      "\n",
      "── \u001b[1mConflicts\u001b[22m ────────────────────────────────────────── tidyverse_conflicts() ──\n",
      "\u001b[31m✖\u001b[39m \u001b[34mdplyr\u001b[39m::\u001b[32mfilter()\u001b[39m masks \u001b[34mstats\u001b[39m::filter()\n",
      "\u001b[31m✖\u001b[39m \u001b[34mdplyr\u001b[39m::\u001b[32mlag()\u001b[39m    masks \u001b[34mstats\u001b[39m::lag()\n",
      "\n"
     ]
    }
   ],
   "source": [
    "library(tidyverse)\n",
    "library(foreign)\n"
   ]
  },
  {
   "cell_type": "code",
   "execution_count": 2,
   "metadata": {},
   "outputs": [
    {
     "data": {
      "text/html": [
       "<table>\n",
       "<caption>A data.frame: 6 × 31</caption>\n",
       "<thead>\n",
       "\t<tr><th></th><th scope=col>having_IP_Address</th><th scope=col>URL_Length</th><th scope=col>Shortining_Service</th><th scope=col>having_At_Symbol</th><th scope=col>double_slash_redirecting</th><th scope=col>Prefix_Suffix</th><th scope=col>having_Sub_Domain</th><th scope=col>SSLfinal_State</th><th scope=col>Domain_registeration_length</th><th scope=col>Favicon</th><th scope=col>⋯</th><th scope=col>popUpWidnow</th><th scope=col>Iframe</th><th scope=col>age_of_domain</th><th scope=col>DNSRecord</th><th scope=col>web_traffic</th><th scope=col>Page_Rank</th><th scope=col>Google_Index</th><th scope=col>Links_pointing_to_page</th><th scope=col>Statistical_report</th><th scope=col>Result</th></tr>\n",
       "\t<tr><th></th><th scope=col>&lt;fct&gt;</th><th scope=col>&lt;fct&gt;</th><th scope=col>&lt;fct&gt;</th><th scope=col>&lt;fct&gt;</th><th scope=col>&lt;fct&gt;</th><th scope=col>&lt;fct&gt;</th><th scope=col>&lt;fct&gt;</th><th scope=col>&lt;fct&gt;</th><th scope=col>&lt;fct&gt;</th><th scope=col>&lt;fct&gt;</th><th scope=col>⋯</th><th scope=col>&lt;fct&gt;</th><th scope=col>&lt;fct&gt;</th><th scope=col>&lt;fct&gt;</th><th scope=col>&lt;fct&gt;</th><th scope=col>&lt;fct&gt;</th><th scope=col>&lt;fct&gt;</th><th scope=col>&lt;fct&gt;</th><th scope=col>&lt;fct&gt;</th><th scope=col>&lt;fct&gt;</th><th scope=col>&lt;fct&gt;</th></tr>\n",
       "</thead>\n",
       "<tbody>\n",
       "\t<tr><th scope=row>1</th><td>-1</td><td>1</td><td>1 </td><td>1</td><td>-1</td><td>-1</td><td>-1</td><td>-1</td><td>-1</td><td>1</td><td>⋯</td><td>1 </td><td>1</td><td>-1</td><td>-1</td><td>-1</td><td>-1</td><td>1</td><td>1 </td><td>-1</td><td>-1</td></tr>\n",
       "\t<tr><th scope=row>2</th><td>1 </td><td>1</td><td>1 </td><td>1</td><td>1 </td><td>-1</td><td>0 </td><td>1 </td><td>-1</td><td>1</td><td>⋯</td><td>1 </td><td>1</td><td>-1</td><td>-1</td><td>0 </td><td>-1</td><td>1</td><td>1 </td><td>1 </td><td>-1</td></tr>\n",
       "\t<tr><th scope=row>3</th><td>1 </td><td>0</td><td>1 </td><td>1</td><td>1 </td><td>-1</td><td>-1</td><td>-1</td><td>-1</td><td>1</td><td>⋯</td><td>1 </td><td>1</td><td>1 </td><td>-1</td><td>1 </td><td>-1</td><td>1</td><td>0 </td><td>-1</td><td>-1</td></tr>\n",
       "\t<tr><th scope=row>4</th><td>1 </td><td>0</td><td>1 </td><td>1</td><td>1 </td><td>-1</td><td>-1</td><td>-1</td><td>1 </td><td>1</td><td>⋯</td><td>1 </td><td>1</td><td>-1</td><td>-1</td><td>1 </td><td>-1</td><td>1</td><td>-1</td><td>1 </td><td>-1</td></tr>\n",
       "\t<tr><th scope=row>5</th><td>1 </td><td>0</td><td>-1</td><td>1</td><td>1 </td><td>-1</td><td>1 </td><td>1 </td><td>-1</td><td>1</td><td>⋯</td><td>-1</td><td>1</td><td>-1</td><td>-1</td><td>0 </td><td>-1</td><td>1</td><td>1 </td><td>1 </td><td>1 </td></tr>\n",
       "\t<tr><th scope=row>6</th><td>-1</td><td>0</td><td>-1</td><td>1</td><td>-1</td><td>-1</td><td>1 </td><td>1 </td><td>-1</td><td>1</td><td>⋯</td><td>1 </td><td>1</td><td>1 </td><td>1 </td><td>1 </td><td>-1</td><td>1</td><td>-1</td><td>-1</td><td>1 </td></tr>\n",
       "</tbody>\n",
       "</table>\n"
      ],
      "text/latex": [
       "A data.frame: 6 × 31\n",
       "\\begin{tabular}{r|lllllllllllllllllllll}\n",
       "  & having\\_IP\\_Address & URL\\_Length & Shortining\\_Service & having\\_At\\_Symbol & double\\_slash\\_redirecting & Prefix\\_Suffix & having\\_Sub\\_Domain & SSLfinal\\_State & Domain\\_registeration\\_length & Favicon & ⋯ & popUpWidnow & Iframe & age\\_of\\_domain & DNSRecord & web\\_traffic & Page\\_Rank & Google\\_Index & Links\\_pointing\\_to\\_page & Statistical\\_report & Result\\\\\n",
       "  & <fct> & <fct> & <fct> & <fct> & <fct> & <fct> & <fct> & <fct> & <fct> & <fct> & ⋯ & <fct> & <fct> & <fct> & <fct> & <fct> & <fct> & <fct> & <fct> & <fct> & <fct>\\\\\n",
       "\\hline\n",
       "\t1 & -1 & 1 & 1  & 1 & -1 & -1 & -1 & -1 & -1 & 1 & ⋯ & 1  & 1 & -1 & -1 & -1 & -1 & 1 & 1  & -1 & -1\\\\\n",
       "\t2 & 1  & 1 & 1  & 1 & 1  & -1 & 0  & 1  & -1 & 1 & ⋯ & 1  & 1 & -1 & -1 & 0  & -1 & 1 & 1  & 1  & -1\\\\\n",
       "\t3 & 1  & 0 & 1  & 1 & 1  & -1 & -1 & -1 & -1 & 1 & ⋯ & 1  & 1 & 1  & -1 & 1  & -1 & 1 & 0  & -1 & -1\\\\\n",
       "\t4 & 1  & 0 & 1  & 1 & 1  & -1 & -1 & -1 & 1  & 1 & ⋯ & 1  & 1 & -1 & -1 & 1  & -1 & 1 & -1 & 1  & -1\\\\\n",
       "\t5 & 1  & 0 & -1 & 1 & 1  & -1 & 1  & 1  & -1 & 1 & ⋯ & -1 & 1 & -1 & -1 & 0  & -1 & 1 & 1  & 1  & 1 \\\\\n",
       "\t6 & -1 & 0 & -1 & 1 & -1 & -1 & 1  & 1  & -1 & 1 & ⋯ & 1  & 1 & 1  & 1  & 1  & -1 & 1 & -1 & -1 & 1 \\\\\n",
       "\\end{tabular}\n"
      ],
      "text/markdown": [
       "\n",
       "A data.frame: 6 × 31\n",
       "\n",
       "| <!--/--> | having_IP_Address &lt;fct&gt; | URL_Length &lt;fct&gt; | Shortining_Service &lt;fct&gt; | having_At_Symbol &lt;fct&gt; | double_slash_redirecting &lt;fct&gt; | Prefix_Suffix &lt;fct&gt; | having_Sub_Domain &lt;fct&gt; | SSLfinal_State &lt;fct&gt; | Domain_registeration_length &lt;fct&gt; | Favicon &lt;fct&gt; | ⋯ ⋯ | popUpWidnow &lt;fct&gt; | Iframe &lt;fct&gt; | age_of_domain &lt;fct&gt; | DNSRecord &lt;fct&gt; | web_traffic &lt;fct&gt; | Page_Rank &lt;fct&gt; | Google_Index &lt;fct&gt; | Links_pointing_to_page &lt;fct&gt; | Statistical_report &lt;fct&gt; | Result &lt;fct&gt; |\n",
       "|---|---|---|---|---|---|---|---|---|---|---|---|---|---|---|---|---|---|---|---|---|---|\n",
       "| 1 | -1 | 1 | 1  | 1 | -1 | -1 | -1 | -1 | -1 | 1 | ⋯ | 1  | 1 | -1 | -1 | -1 | -1 | 1 | 1  | -1 | -1 |\n",
       "| 2 | 1  | 1 | 1  | 1 | 1  | -1 | 0  | 1  | -1 | 1 | ⋯ | 1  | 1 | -1 | -1 | 0  | -1 | 1 | 1  | 1  | -1 |\n",
       "| 3 | 1  | 0 | 1  | 1 | 1  | -1 | -1 | -1 | -1 | 1 | ⋯ | 1  | 1 | 1  | -1 | 1  | -1 | 1 | 0  | -1 | -1 |\n",
       "| 4 | 1  | 0 | 1  | 1 | 1  | -1 | -1 | -1 | 1  | 1 | ⋯ | 1  | 1 | -1 | -1 | 1  | -1 | 1 | -1 | 1  | -1 |\n",
       "| 5 | 1  | 0 | -1 | 1 | 1  | -1 | 1  | 1  | -1 | 1 | ⋯ | -1 | 1 | -1 | -1 | 0  | -1 | 1 | 1  | 1  | 1  |\n",
       "| 6 | -1 | 0 | -1 | 1 | -1 | -1 | 1  | 1  | -1 | 1 | ⋯ | 1  | 1 | 1  | 1  | 1  | -1 | 1 | -1 | -1 | 1  |\n",
       "\n"
      ],
      "text/plain": [
       "  having_IP_Address URL_Length Shortining_Service having_At_Symbol\n",
       "1 -1                1          1                  1               \n",
       "2 1                 1          1                  1               \n",
       "3 1                 0          1                  1               \n",
       "4 1                 0          1                  1               \n",
       "5 1                 0          -1                 1               \n",
       "6 -1                0          -1                 1               \n",
       "  double_slash_redirecting Prefix_Suffix having_Sub_Domain SSLfinal_State\n",
       "1 -1                       -1            -1                -1            \n",
       "2 1                        -1            0                 1             \n",
       "3 1                        -1            -1                -1            \n",
       "4 1                        -1            -1                -1            \n",
       "5 1                        -1            1                 1             \n",
       "6 -1                       -1            1                 1             \n",
       "  Domain_registeration_length Favicon ⋯ popUpWidnow Iframe age_of_domain\n",
       "1 -1                          1       ⋯ 1           1      -1           \n",
       "2 -1                          1       ⋯ 1           1      -1           \n",
       "3 -1                          1       ⋯ 1           1      1            \n",
       "4 1                           1       ⋯ 1           1      -1           \n",
       "5 -1                          1       ⋯ -1          1      -1           \n",
       "6 -1                          1       ⋯ 1           1      1            \n",
       "  DNSRecord web_traffic Page_Rank Google_Index Links_pointing_to_page\n",
       "1 -1        -1          -1        1            1                     \n",
       "2 -1        0           -1        1            1                     \n",
       "3 -1        1           -1        1            0                     \n",
       "4 -1        1           -1        1            -1                    \n",
       "5 -1        0           -1        1            1                     \n",
       "6 1         1           -1        1            -1                    \n",
       "  Statistical_report Result\n",
       "1 -1                 -1    \n",
       "2 1                  -1    \n",
       "3 -1                 -1    \n",
       "4 1                  -1    \n",
       "5 1                  1     \n",
       "6 -1                 1     "
      ]
     },
     "metadata": {},
     "output_type": "display_data"
    }
   ],
   "source": [
    "data = read.arff(\"./phishingdata.arff\")\n",
    "\n",
    "head(data)"
   ]
  },
  {
   "cell_type": "code",
   "execution_count": null,
   "metadata": {},
   "outputs": [],
   "source": []
  }
 ],
 "metadata": {
  "kernelspec": {
   "display_name": "R",
   "language": "R",
   "name": "ir"
  },
  "language_info": {
   "codemirror_mode": "r",
   "file_extension": ".r",
   "mimetype": "text/x-r-source",
   "name": "R",
   "pygments_lexer": "r",
   "version": "3.6.2"
  }
 },
 "nbformat": 4,
 "nbformat_minor": 4
}
