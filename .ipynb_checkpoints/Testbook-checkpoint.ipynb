{
 "cells": [
  {
   "cell_type": "code",
   "execution_count": 1,
   "metadata": {},
   "outputs": [
    {
     "name": "stderr",
     "output_type": "stream",
     "text": [
      "── \u001b[1mAttaching packages\u001b[22m ─────────────────────────────────────── tidyverse 1.3.0 ──\n",
      "\n",
      "\u001b[32m✔\u001b[39m \u001b[34mggplot2\u001b[39m 3.2.1     \u001b[32m✔\u001b[39m \u001b[34mpurrr  \u001b[39m 0.3.3\n",
      "\u001b[32m✔\u001b[39m \u001b[34mtibble \u001b[39m 2.1.3     \u001b[32m✔\u001b[39m \u001b[34mdplyr  \u001b[39m 0.8.3\n",
      "\u001b[32m✔\u001b[39m \u001b[34mtidyr  \u001b[39m 1.0.0     \u001b[32m✔\u001b[39m \u001b[34mstringr\u001b[39m 1.4.0\n",
      "\u001b[32m✔\u001b[39m \u001b[34mreadr  \u001b[39m 1.3.1     \u001b[32m✔\u001b[39m \u001b[34mforcats\u001b[39m 0.4.0\n",
      "\n",
      "── \u001b[1mConflicts\u001b[22m ────────────────────────────────────────── tidyverse_conflicts() ──\n",
      "\u001b[31m✖\u001b[39m \u001b[34mdplyr\u001b[39m::\u001b[32mfilter()\u001b[39m masks \u001b[34mstats\u001b[39m::filter()\n",
      "\u001b[31m✖\u001b[39m \u001b[34mdplyr\u001b[39m::\u001b[32mlag()\u001b[39m    masks \u001b[34mstats\u001b[39m::lag()\n",
      "\n"
     ]
    }
   ],
   "source": [
    "library(tidyverse)\n",
    "library(foreign)\n"
   ]
  },
  {
   "cell_type": "code",
   "execution_count": 5,
   "metadata": {
    "scrolled": true
   },
   "outputs": [
    {
     "name": "stderr",
     "output_type": "stream",
     "text": [
      "Warning message:\n",
      "“Missing column names filled in: 'X1' [1]”\n",
      "Parsed with column specification:\n",
      "cols(\n",
      "  .default = col_double(),\n",
      "  tourney_id = \u001b[31mcol_character()\u001b[39m,\n",
      "  tourney_name = \u001b[31mcol_character()\u001b[39m,\n",
      "  surface = \u001b[31mcol_character()\u001b[39m,\n",
      "  tourney_level = \u001b[31mcol_character()\u001b[39m,\n",
      "  winner_seed = \u001b[31mcol_character()\u001b[39m,\n",
      "  winner_entry = \u001b[31mcol_character()\u001b[39m,\n",
      "  winner_name = \u001b[31mcol_character()\u001b[39m,\n",
      "  winner_hand = \u001b[31mcol_character()\u001b[39m,\n",
      "  winner_ioc = \u001b[31mcol_character()\u001b[39m,\n",
      "  loser_seed = \u001b[31mcol_character()\u001b[39m,\n",
      "  loser_entry = \u001b[31mcol_character()\u001b[39m,\n",
      "  loser_name = \u001b[31mcol_character()\u001b[39m,\n",
      "  loser_hand = \u001b[31mcol_character()\u001b[39m,\n",
      "  loser_ioc = \u001b[31mcol_character()\u001b[39m,\n",
      "  score = \u001b[31mcol_character()\u001b[39m,\n",
      "  round = \u001b[31mcol_character()\u001b[39m\n",
      ")\n",
      "\n",
      "See spec(...) for full column specifications.\n",
      "\n"
     ]
    },
    {
     "data": {
      "text/html": [
       "<table>\n",
       "<caption>A tibble: 6 × 50</caption>\n",
       "<thead>\n",
       "\t<tr><th scope=col>X1</th><th scope=col>tourney_id</th><th scope=col>tourney_name</th><th scope=col>surface</th><th scope=col>draw_size</th><th scope=col>tourney_level</th><th scope=col>tourney_date</th><th scope=col>match_num</th><th scope=col>winner_id</th><th scope=col>winner_seed</th><th scope=col>⋯</th><th scope=col>l_1stIn</th><th scope=col>l_1stWon</th><th scope=col>l_2ndWon</th><th scope=col>l_SvGms</th><th scope=col>l_bpSaved</th><th scope=col>l_bpFaced</th><th scope=col>winner_rank</th><th scope=col>winner_rank_points</th><th scope=col>loser_rank</th><th scope=col>loser_rank_points</th></tr>\n",
       "\t<tr><th scope=col>&lt;dbl&gt;</th><th scope=col>&lt;chr&gt;</th><th scope=col>&lt;chr&gt;</th><th scope=col>&lt;chr&gt;</th><th scope=col>&lt;dbl&gt;</th><th scope=col>&lt;chr&gt;</th><th scope=col>&lt;dbl&gt;</th><th scope=col>&lt;dbl&gt;</th><th scope=col>&lt;dbl&gt;</th><th scope=col>&lt;chr&gt;</th><th scope=col>⋯</th><th scope=col>&lt;dbl&gt;</th><th scope=col>&lt;dbl&gt;</th><th scope=col>&lt;dbl&gt;</th><th scope=col>&lt;dbl&gt;</th><th scope=col>&lt;dbl&gt;</th><th scope=col>&lt;dbl&gt;</th><th scope=col>&lt;dbl&gt;</th><th scope=col>&lt;dbl&gt;</th><th scope=col>&lt;dbl&gt;</th><th scope=col>&lt;dbl&gt;</th></tr>\n",
       "</thead>\n",
       "<tbody>\n",
       "\t<tr><td>0</td><td>2019-M020</td><td>Brisbane</td><td>Hard</td><td>32</td><td>A</td><td>20181231</td><td>300</td><td>105453</td><td>2 </td><td>⋯</td><td>54</td><td>34</td><td>20</td><td>14</td><td>10</td><td>15</td><td>  9</td><td>3590</td><td> 16</td><td>1977</td></tr>\n",
       "\t<tr><td>1</td><td>2019-M020</td><td>Brisbane</td><td>Hard</td><td>32</td><td>A</td><td>20181231</td><td>299</td><td>106421</td><td>4 </td><td>⋯</td><td>52</td><td>36</td><td> 7</td><td>10</td><td>10</td><td>13</td><td> 16</td><td>1977</td><td>239</td><td> 200</td></tr>\n",
       "\t<tr><td>2</td><td>2019-M020</td><td>Brisbane</td><td>Hard</td><td>32</td><td>A</td><td>20181231</td><td>298</td><td>105453</td><td>2 </td><td>⋯</td><td>27</td><td>15</td><td> 6</td><td> 8</td><td> 1</td><td> 5</td><td>  9</td><td>3590</td><td> 40</td><td>1050</td></tr>\n",
       "\t<tr><td>3</td><td>2019-M020</td><td>Brisbane</td><td>Hard</td><td>32</td><td>A</td><td>20181231</td><td>297</td><td>104542</td><td>NA</td><td>⋯</td><td>60</td><td>38</td><td> 9</td><td>11</td><td> 4</td><td> 6</td><td>239</td><td> 200</td><td> 31</td><td>1298</td></tr>\n",
       "\t<tr><td>4</td><td>2019-M020</td><td>Brisbane</td><td>Hard</td><td>32</td><td>A</td><td>20181231</td><td>296</td><td>106421</td><td>4 </td><td>⋯</td><td>56</td><td>46</td><td>19</td><td>15</td><td> 2</td><td> 4</td><td> 16</td><td>1977</td><td> 18</td><td>1855</td></tr>\n",
       "\t<tr><td>5</td><td>2019-M020</td><td>Brisbane</td><td>Hard</td><td>32</td><td>A</td><td>20181231</td><td>295</td><td>104871</td><td>NA</td><td>⋯</td><td>54</td><td>40</td><td>18</td><td>15</td><td> 6</td><td> 9</td><td> 40</td><td>1050</td><td>185</td><td> 275</td></tr>\n",
       "</tbody>\n",
       "</table>\n"
      ],
      "text/latex": [
       "A tibble: 6 × 50\n",
       "\\begin{tabular}{lllllllllllllllllllll}\n",
       " X1 & tourney\\_id & tourney\\_name & surface & draw\\_size & tourney\\_level & tourney\\_date & match\\_num & winner\\_id & winner\\_seed & ⋯ & l\\_1stIn & l\\_1stWon & l\\_2ndWon & l\\_SvGms & l\\_bpSaved & l\\_bpFaced & winner\\_rank & winner\\_rank\\_points & loser\\_rank & loser\\_rank\\_points\\\\\n",
       " <dbl> & <chr> & <chr> & <chr> & <dbl> & <chr> & <dbl> & <dbl> & <dbl> & <chr> & ⋯ & <dbl> & <dbl> & <dbl> & <dbl> & <dbl> & <dbl> & <dbl> & <dbl> & <dbl> & <dbl>\\\\\n",
       "\\hline\n",
       "\t 0 & 2019-M020 & Brisbane & Hard & 32 & A & 20181231 & 300 & 105453 & 2  & ⋯ & 54 & 34 & 20 & 14 & 10 & 15 &   9 & 3590 &  16 & 1977\\\\\n",
       "\t 1 & 2019-M020 & Brisbane & Hard & 32 & A & 20181231 & 299 & 106421 & 4  & ⋯ & 52 & 36 &  7 & 10 & 10 & 13 &  16 & 1977 & 239 &  200\\\\\n",
       "\t 2 & 2019-M020 & Brisbane & Hard & 32 & A & 20181231 & 298 & 105453 & 2  & ⋯ & 27 & 15 &  6 &  8 &  1 &  5 &   9 & 3590 &  40 & 1050\\\\\n",
       "\t 3 & 2019-M020 & Brisbane & Hard & 32 & A & 20181231 & 297 & 104542 & NA & ⋯ & 60 & 38 &  9 & 11 &  4 &  6 & 239 &  200 &  31 & 1298\\\\\n",
       "\t 4 & 2019-M020 & Brisbane & Hard & 32 & A & 20181231 & 296 & 106421 & 4  & ⋯ & 56 & 46 & 19 & 15 &  2 &  4 &  16 & 1977 &  18 & 1855\\\\\n",
       "\t 5 & 2019-M020 & Brisbane & Hard & 32 & A & 20181231 & 295 & 104871 & NA & ⋯ & 54 & 40 & 18 & 15 &  6 &  9 &  40 & 1050 & 185 &  275\\\\\n",
       "\\end{tabular}\n"
      ],
      "text/markdown": [
       "\n",
       "A tibble: 6 × 50\n",
       "\n",
       "| X1 &lt;dbl&gt; | tourney_id &lt;chr&gt; | tourney_name &lt;chr&gt; | surface &lt;chr&gt; | draw_size &lt;dbl&gt; | tourney_level &lt;chr&gt; | tourney_date &lt;dbl&gt; | match_num &lt;dbl&gt; | winner_id &lt;dbl&gt; | winner_seed &lt;chr&gt; | ⋯ ⋯ | l_1stIn &lt;dbl&gt; | l_1stWon &lt;dbl&gt; | l_2ndWon &lt;dbl&gt; | l_SvGms &lt;dbl&gt; | l_bpSaved &lt;dbl&gt; | l_bpFaced &lt;dbl&gt; | winner_rank &lt;dbl&gt; | winner_rank_points &lt;dbl&gt; | loser_rank &lt;dbl&gt; | loser_rank_points &lt;dbl&gt; |\n",
       "|---|---|---|---|---|---|---|---|---|---|---|---|---|---|---|---|---|---|---|---|---|\n",
       "| 0 | 2019-M020 | Brisbane | Hard | 32 | A | 20181231 | 300 | 105453 | 2  | ⋯ | 54 | 34 | 20 | 14 | 10 | 15 |   9 | 3590 |  16 | 1977 |\n",
       "| 1 | 2019-M020 | Brisbane | Hard | 32 | A | 20181231 | 299 | 106421 | 4  | ⋯ | 52 | 36 |  7 | 10 | 10 | 13 |  16 | 1977 | 239 |  200 |\n",
       "| 2 | 2019-M020 | Brisbane | Hard | 32 | A | 20181231 | 298 | 105453 | 2  | ⋯ | 27 | 15 |  6 |  8 |  1 |  5 |   9 | 3590 |  40 | 1050 |\n",
       "| 3 | 2019-M020 | Brisbane | Hard | 32 | A | 20181231 | 297 | 104542 | NA | ⋯ | 60 | 38 |  9 | 11 |  4 |  6 | 239 |  200 |  31 | 1298 |\n",
       "| 4 | 2019-M020 | Brisbane | Hard | 32 | A | 20181231 | 296 | 106421 | 4  | ⋯ | 56 | 46 | 19 | 15 |  2 |  4 |  16 | 1977 |  18 | 1855 |\n",
       "| 5 | 2019-M020 | Brisbane | Hard | 32 | A | 20181231 | 295 | 104871 | NA | ⋯ | 54 | 40 | 18 | 15 |  6 |  9 |  40 | 1050 | 185 |  275 |\n",
       "\n"
      ],
      "text/plain": [
       "  X1 tourney_id tourney_name surface draw_size tourney_level tourney_date\n",
       "1 0  2019-M020  Brisbane     Hard    32        A             20181231    \n",
       "2 1  2019-M020  Brisbane     Hard    32        A             20181231    \n",
       "3 2  2019-M020  Brisbane     Hard    32        A             20181231    \n",
       "4 3  2019-M020  Brisbane     Hard    32        A             20181231    \n",
       "5 4  2019-M020  Brisbane     Hard    32        A             20181231    \n",
       "6 5  2019-M020  Brisbane     Hard    32        A             20181231    \n",
       "  match_num winner_id winner_seed ⋯ l_1stIn l_1stWon l_2ndWon l_SvGms l_bpSaved\n",
       "1 300       105453    2           ⋯ 54      34       20       14      10       \n",
       "2 299       106421    4           ⋯ 52      36        7       10      10       \n",
       "3 298       105453    2           ⋯ 27      15        6        8       1       \n",
       "4 297       104542    NA          ⋯ 60      38        9       11       4       \n",
       "5 296       106421    4           ⋯ 56      46       19       15       2       \n",
       "6 295       104871    NA          ⋯ 54      40       18       15       6       \n",
       "  l_bpFaced winner_rank winner_rank_points loser_rank loser_rank_points\n",
       "1 15          9         3590                16        1977             \n",
       "2 13         16         1977               239         200             \n",
       "3  5          9         3590                40        1050             \n",
       "4  6        239          200                31        1298             \n",
       "5  4         16         1977                18        1855             \n",
       "6  9         40         1050               185         275             "
      ]
     },
     "metadata": {},
     "output_type": "display_data"
    },
    {
     "data": {
      "text/html": [
       "<table>\n",
       "<caption>A tibble: 6 × 50</caption>\n",
       "<thead>\n",
       "\t<tr><th scope=col>X1</th><th scope=col>tourney_id</th><th scope=col>tourney_name</th><th scope=col>surface</th><th scope=col>draw_size</th><th scope=col>tourney_level</th><th scope=col>tourney_date</th><th scope=col>match_num</th><th scope=col>winner_id</th><th scope=col>winner_seed</th><th scope=col>⋯</th><th scope=col>l_1stIn</th><th scope=col>l_1stWon</th><th scope=col>l_2ndWon</th><th scope=col>l_SvGms</th><th scope=col>l_bpSaved</th><th scope=col>l_bpFaced</th><th scope=col>winner_rank</th><th scope=col>winner_rank_points</th><th scope=col>loser_rank</th><th scope=col>loser_rank_points</th></tr>\n",
       "\t<tr><th scope=col>&lt;dbl&gt;</th><th scope=col>&lt;chr&gt;</th><th scope=col>&lt;chr&gt;</th><th scope=col>&lt;chr&gt;</th><th scope=col>&lt;dbl&gt;</th><th scope=col>&lt;chr&gt;</th><th scope=col>&lt;dbl&gt;</th><th scope=col>&lt;dbl&gt;</th><th scope=col>&lt;dbl&gt;</th><th scope=col>&lt;chr&gt;</th><th scope=col>⋯</th><th scope=col>&lt;dbl&gt;</th><th scope=col>&lt;dbl&gt;</th><th scope=col>&lt;dbl&gt;</th><th scope=col>&lt;dbl&gt;</th><th scope=col>&lt;dbl&gt;</th><th scope=col>&lt;dbl&gt;</th><th scope=col>&lt;dbl&gt;</th><th scope=col>&lt;dbl&gt;</th><th scope=col>&lt;dbl&gt;</th><th scope=col>&lt;dbl&gt;</th></tr>\n",
       "</thead>\n",
       "<tbody>\n",
       "\t<tr><td>2879</td><td>2017-0605                     </td><td>Tour Finals               </td><td>Hard</td><td>8</td><td>F</td><td>20171113</td><td>298</td><td>105676</td><td>7.0</td><td>⋯</td><td>47</td><td>35</td><td>17</td><td>13</td><td> 1</td><td> 3</td><td> 8</td><td>2975</td><td> 2</td><td>9005</td></tr>\n",
       "\t<tr><td>2881</td><td>2017-0605                     </td><td>Tour Finals               </td><td>Hard</td><td>8</td><td>F</td><td>20171113</td><td>300</td><td>105777</td><td>6.0</td><td>⋯</td><td>54</td><td>42</td><td>22</td><td>15</td><td>11</td><td>15</td><td> 6</td><td>3650</td><td> 8</td><td>2975</td></tr>\n",
       "\t<tr><td>2882</td><td>2017-M-DC-2017-WG-M-BEL-FRA-01</td><td>Davis Cup WG F: BEL vs FRA</td><td>Hard</td><td>4</td><td>D</td><td>20171124</td><td>  1</td><td>105676</td><td>NA </td><td>⋯</td><td>53</td><td>33</td><td>21</td><td>14</td><td> 6</td><td>11</td><td> 7</td><td>3775</td><td>18</td><td>2235</td></tr>\n",
       "\t<tr><td>2883</td><td>2017-M-DC-2017-WG-M-BEL-FRA-01</td><td>Davis Cup WG F: BEL vs FRA</td><td>Hard</td><td>4</td><td>D</td><td>20171124</td><td>  2</td><td>104542</td><td>NA </td><td>⋯</td><td>54</td><td>30</td><td>12</td><td>12</td><td> 5</td><td>11</td><td>15</td><td>2320</td><td>76</td><td> 667</td></tr>\n",
       "\t<tr><td>2884</td><td>2017-M-DC-2017-WG-M-BEL-FRA-01</td><td>Davis Cup WG F: BEL vs FRA</td><td>Hard</td><td>4</td><td>D</td><td>20171124</td><td>  4</td><td>105676</td><td>NA </td><td>⋯</td><td>54</td><td>44</td><td>13</td><td>14</td><td> 7</td><td>10</td><td> 7</td><td>3775</td><td>15</td><td>2320</td></tr>\n",
       "\t<tr><td>2885</td><td>2017-M-DC-2017-WG-M-BEL-FRA-01</td><td>Davis Cup WG F: BEL vs FRA</td><td>Hard</td><td>4</td><td>D</td><td>20171124</td><td>  5</td><td>106298</td><td>NA </td><td>⋯</td><td>53</td><td>29</td><td>11</td><td>11</td><td> 4</td><td>11</td><td>18</td><td>2235</td><td>76</td><td> 667</td></tr>\n",
       "</tbody>\n",
       "</table>\n"
      ],
      "text/latex": [
       "A tibble: 6 × 50\n",
       "\\begin{tabular}{lllllllllllllllllllll}\n",
       " X1 & tourney\\_id & tourney\\_name & surface & draw\\_size & tourney\\_level & tourney\\_date & match\\_num & winner\\_id & winner\\_seed & ⋯ & l\\_1stIn & l\\_1stWon & l\\_2ndWon & l\\_SvGms & l\\_bpSaved & l\\_bpFaced & winner\\_rank & winner\\_rank\\_points & loser\\_rank & loser\\_rank\\_points\\\\\n",
       " <dbl> & <chr> & <chr> & <chr> & <dbl> & <chr> & <dbl> & <dbl> & <dbl> & <chr> & ⋯ & <dbl> & <dbl> & <dbl> & <dbl> & <dbl> & <dbl> & <dbl> & <dbl> & <dbl> & <dbl>\\\\\n",
       "\\hline\n",
       "\t 2879 & 2017-0605                      & Tour Finals                & Hard & 8 & F & 20171113 & 298 & 105676 & 7.0 & ⋯ & 47 & 35 & 17 & 13 &  1 &  3 &  8 & 2975 &  2 & 9005\\\\\n",
       "\t 2881 & 2017-0605                      & Tour Finals                & Hard & 8 & F & 20171113 & 300 & 105777 & 6.0 & ⋯ & 54 & 42 & 22 & 15 & 11 & 15 &  6 & 3650 &  8 & 2975\\\\\n",
       "\t 2882 & 2017-M-DC-2017-WG-M-BEL-FRA-01 & Davis Cup WG F: BEL vs FRA & Hard & 4 & D & 20171124 &   1 & 105676 & NA  & ⋯ & 53 & 33 & 21 & 14 &  6 & 11 &  7 & 3775 & 18 & 2235\\\\\n",
       "\t 2883 & 2017-M-DC-2017-WG-M-BEL-FRA-01 & Davis Cup WG F: BEL vs FRA & Hard & 4 & D & 20171124 &   2 & 104542 & NA  & ⋯ & 54 & 30 & 12 & 12 &  5 & 11 & 15 & 2320 & 76 &  667\\\\\n",
       "\t 2884 & 2017-M-DC-2017-WG-M-BEL-FRA-01 & Davis Cup WG F: BEL vs FRA & Hard & 4 & D & 20171124 &   4 & 105676 & NA  & ⋯ & 54 & 44 & 13 & 14 &  7 & 10 &  7 & 3775 & 15 & 2320\\\\\n",
       "\t 2885 & 2017-M-DC-2017-WG-M-BEL-FRA-01 & Davis Cup WG F: BEL vs FRA & Hard & 4 & D & 20171124 &   5 & 106298 & NA  & ⋯ & 53 & 29 & 11 & 11 &  4 & 11 & 18 & 2235 & 76 &  667\\\\\n",
       "\\end{tabular}\n"
      ],
      "text/markdown": [
       "\n",
       "A tibble: 6 × 50\n",
       "\n",
       "| X1 &lt;dbl&gt; | tourney_id &lt;chr&gt; | tourney_name &lt;chr&gt; | surface &lt;chr&gt; | draw_size &lt;dbl&gt; | tourney_level &lt;chr&gt; | tourney_date &lt;dbl&gt; | match_num &lt;dbl&gt; | winner_id &lt;dbl&gt; | winner_seed &lt;chr&gt; | ⋯ ⋯ | l_1stIn &lt;dbl&gt; | l_1stWon &lt;dbl&gt; | l_2ndWon &lt;dbl&gt; | l_SvGms &lt;dbl&gt; | l_bpSaved &lt;dbl&gt; | l_bpFaced &lt;dbl&gt; | winner_rank &lt;dbl&gt; | winner_rank_points &lt;dbl&gt; | loser_rank &lt;dbl&gt; | loser_rank_points &lt;dbl&gt; |\n",
       "|---|---|---|---|---|---|---|---|---|---|---|---|---|---|---|---|---|---|---|---|---|\n",
       "| 2879 | 2017-0605                      | Tour Finals                | Hard | 8 | F | 20171113 | 298 | 105676 | 7.0 | ⋯ | 47 | 35 | 17 | 13 |  1 |  3 |  8 | 2975 |  2 | 9005 |\n",
       "| 2881 | 2017-0605                      | Tour Finals                | Hard | 8 | F | 20171113 | 300 | 105777 | 6.0 | ⋯ | 54 | 42 | 22 | 15 | 11 | 15 |  6 | 3650 |  8 | 2975 |\n",
       "| 2882 | 2017-M-DC-2017-WG-M-BEL-FRA-01 | Davis Cup WG F: BEL vs FRA | Hard | 4 | D | 20171124 |   1 | 105676 | NA  | ⋯ | 53 | 33 | 21 | 14 |  6 | 11 |  7 | 3775 | 18 | 2235 |\n",
       "| 2883 | 2017-M-DC-2017-WG-M-BEL-FRA-01 | Davis Cup WG F: BEL vs FRA | Hard | 4 | D | 20171124 |   2 | 104542 | NA  | ⋯ | 54 | 30 | 12 | 12 |  5 | 11 | 15 | 2320 | 76 |  667 |\n",
       "| 2884 | 2017-M-DC-2017-WG-M-BEL-FRA-01 | Davis Cup WG F: BEL vs FRA | Hard | 4 | D | 20171124 |   4 | 105676 | NA  | ⋯ | 54 | 44 | 13 | 14 |  7 | 10 |  7 | 3775 | 15 | 2320 |\n",
       "| 2885 | 2017-M-DC-2017-WG-M-BEL-FRA-01 | Davis Cup WG F: BEL vs FRA | Hard | 4 | D | 20171124 |   5 | 106298 | NA  | ⋯ | 53 | 29 | 11 | 11 |  4 | 11 | 18 | 2235 | 76 |  667 |\n",
       "\n"
      ],
      "text/plain": [
       "  X1   tourney_id                     tourney_name               surface\n",
       "1 2879 2017-0605                      Tour Finals                Hard   \n",
       "2 2881 2017-0605                      Tour Finals                Hard   \n",
       "3 2882 2017-M-DC-2017-WG-M-BEL-FRA-01 Davis Cup WG F: BEL vs FRA Hard   \n",
       "4 2883 2017-M-DC-2017-WG-M-BEL-FRA-01 Davis Cup WG F: BEL vs FRA Hard   \n",
       "5 2884 2017-M-DC-2017-WG-M-BEL-FRA-01 Davis Cup WG F: BEL vs FRA Hard   \n",
       "6 2885 2017-M-DC-2017-WG-M-BEL-FRA-01 Davis Cup WG F: BEL vs FRA Hard   \n",
       "  draw_size tourney_level tourney_date match_num winner_id winner_seed ⋯\n",
       "1 8         F             20171113     298       105676    7.0         ⋯\n",
       "2 8         F             20171113     300       105777    6.0         ⋯\n",
       "3 4         D             20171124       1       105676    NA          ⋯\n",
       "4 4         D             20171124       2       104542    NA          ⋯\n",
       "5 4         D             20171124       4       105676    NA          ⋯\n",
       "6 4         D             20171124       5       106298    NA          ⋯\n",
       "  l_1stIn l_1stWon l_2ndWon l_SvGms l_bpSaved l_bpFaced winner_rank\n",
       "1 47      35       17       13       1         3         8         \n",
       "2 54      42       22       15      11        15         6         \n",
       "3 53      33       21       14       6        11         7         \n",
       "4 54      30       12       12       5        11        15         \n",
       "5 54      44       13       14       7        10         7         \n",
       "6 53      29       11       11       4        11        18         \n",
       "  winner_rank_points loser_rank loser_rank_points\n",
       "1 2975                2         9005             \n",
       "2 3650                8         2975             \n",
       "3 3775               18         2235             \n",
       "4 2320               76          667             \n",
       "5 3775               15         2320             \n",
       "6 2235               76          667             "
      ]
     },
     "metadata": {},
     "output_type": "display_data"
    }
   ],
   "source": [
    "data = read_csv(\"./matchData.csv\")\n",
    "\n",
    "head(data)\n",
    "\n",
    "tail(data)"
   ]
  },
  {
   "cell_type": "code",
   "execution_count": 6,
   "metadata": {},
   "outputs": [
    {
     "data": {
      "text/html": [
       "<table>\n",
       "<caption>A tibble: 6 × 17</caption>\n",
       "<thead>\n",
       "\t<tr><th scope=col>tourney_id</th><th scope=col>tourney_name</th><th scope=col>tourney_level</th><th scope=col>winner_seed</th><th scope=col>winner_name</th><th scope=col>winner_hand</th><th scope=col>winner_ioc</th><th scope=col>winner_age</th><th scope=col>loser_seed</th><th scope=col>loser_name</th><th scope=col>loser_hand</th><th scope=col>loser_ioc</th><th scope=col>loser_age</th><th scope=col>round</th><th scope=col>minutes</th><th scope=col>winner_rank</th><th scope=col>loser_rank</th></tr>\n",
       "\t<tr><th scope=col>&lt;chr&gt;</th><th scope=col>&lt;chr&gt;</th><th scope=col>&lt;chr&gt;</th><th scope=col>&lt;chr&gt;</th><th scope=col>&lt;chr&gt;</th><th scope=col>&lt;chr&gt;</th><th scope=col>&lt;chr&gt;</th><th scope=col>&lt;dbl&gt;</th><th scope=col>&lt;chr&gt;</th><th scope=col>&lt;chr&gt;</th><th scope=col>&lt;chr&gt;</th><th scope=col>&lt;chr&gt;</th><th scope=col>&lt;dbl&gt;</th><th scope=col>&lt;chr&gt;</th><th scope=col>&lt;dbl&gt;</th><th scope=col>&lt;dbl&gt;</th><th scope=col>&lt;dbl&gt;</th></tr>\n",
       "</thead>\n",
       "<tbody>\n",
       "\t<tr><td>2019-M020</td><td>Brisbane</td><td>A</td><td>2 </td><td>Kei Nishikori     </td><td>R</td><td>JPN</td><td>29.00479</td><td>4 </td><td>Daniil Medvedev   </td><td>R</td><td>RUS</td><td>22.88569</td><td>F </td><td>124</td><td>  9</td><td> 16</td></tr>\n",
       "\t<tr><td>2019-M020</td><td>Brisbane</td><td>A</td><td>4 </td><td>Daniil Medvedev   </td><td>R</td><td>RUS</td><td>22.88569</td><td>NA</td><td>Jo Wilfried Tsonga</td><td>R</td><td>FRA</td><td>33.70568</td><td>SF</td><td> 82</td><td> 16</td><td>239</td></tr>\n",
       "\t<tr><td>2019-M020</td><td>Brisbane</td><td>A</td><td>2 </td><td>Kei Nishikori     </td><td>R</td><td>JPN</td><td>29.00479</td><td>NA</td><td>Jeremy Chardy     </td><td>R</td><td>FRA</td><td>31.88227</td><td>SF</td><td> 66</td><td>  9</td><td> 40</td></tr>\n",
       "\t<tr><td>2019-M020</td><td>Brisbane</td><td>A</td><td>NA</td><td>Jo Wilfried Tsonga</td><td>R</td><td>FRA</td><td>33.70568</td><td>7 </td><td>Alex De Minaur    </td><td>R</td><td>AUS</td><td>19.86858</td><td>QF</td><td>106</td><td>239</td><td> 31</td></tr>\n",
       "\t<tr><td>2019-M020</td><td>Brisbane</td><td>A</td><td>4 </td><td>Daniil Medvedev   </td><td>R</td><td>RUS</td><td>22.88569</td><td>5 </td><td>Milos Raonic      </td><td>R</td><td>CAN</td><td>28.01095</td><td>QF</td><td>129</td><td> 16</td><td> 18</td></tr>\n",
       "\t<tr><td>2019-M020</td><td>Brisbane</td><td>A</td><td>NA</td><td>Jeremy Chardy     </td><td>R</td><td>FRA</td><td>31.88227</td><td>NA</td><td>Yasutaka Uchiyama </td><td>R</td><td>JPN</td><td>26.40383</td><td>QF</td><td>127</td><td> 40</td><td>185</td></tr>\n",
       "</tbody>\n",
       "</table>\n"
      ],
      "text/latex": [
       "A tibble: 6 × 17\n",
       "\\begin{tabular}{lllllllllllllllll}\n",
       " tourney\\_id & tourney\\_name & tourney\\_level & winner\\_seed & winner\\_name & winner\\_hand & winner\\_ioc & winner\\_age & loser\\_seed & loser\\_name & loser\\_hand & loser\\_ioc & loser\\_age & round & minutes & winner\\_rank & loser\\_rank\\\\\n",
       " <chr> & <chr> & <chr> & <chr> & <chr> & <chr> & <chr> & <dbl> & <chr> & <chr> & <chr> & <chr> & <dbl> & <chr> & <dbl> & <dbl> & <dbl>\\\\\n",
       "\\hline\n",
       "\t 2019-M020 & Brisbane & A & 2  & Kei Nishikori      & R & JPN & 29.00479 & 4  & Daniil Medvedev    & R & RUS & 22.88569 & F  & 124 &   9 &  16\\\\\n",
       "\t 2019-M020 & Brisbane & A & 4  & Daniil Medvedev    & R & RUS & 22.88569 & NA & Jo Wilfried Tsonga & R & FRA & 33.70568 & SF &  82 &  16 & 239\\\\\n",
       "\t 2019-M020 & Brisbane & A & 2  & Kei Nishikori      & R & JPN & 29.00479 & NA & Jeremy Chardy      & R & FRA & 31.88227 & SF &  66 &   9 &  40\\\\\n",
       "\t 2019-M020 & Brisbane & A & NA & Jo Wilfried Tsonga & R & FRA & 33.70568 & 7  & Alex De Minaur     & R & AUS & 19.86858 & QF & 106 & 239 &  31\\\\\n",
       "\t 2019-M020 & Brisbane & A & 4  & Daniil Medvedev    & R & RUS & 22.88569 & 5  & Milos Raonic       & R & CAN & 28.01095 & QF & 129 &  16 &  18\\\\\n",
       "\t 2019-M020 & Brisbane & A & NA & Jeremy Chardy      & R & FRA & 31.88227 & NA & Yasutaka Uchiyama  & R & JPN & 26.40383 & QF & 127 &  40 & 185\\\\\n",
       "\\end{tabular}\n"
      ],
      "text/markdown": [
       "\n",
       "A tibble: 6 × 17\n",
       "\n",
       "| tourney_id &lt;chr&gt; | tourney_name &lt;chr&gt; | tourney_level &lt;chr&gt; | winner_seed &lt;chr&gt; | winner_name &lt;chr&gt; | winner_hand &lt;chr&gt; | winner_ioc &lt;chr&gt; | winner_age &lt;dbl&gt; | loser_seed &lt;chr&gt; | loser_name &lt;chr&gt; | loser_hand &lt;chr&gt; | loser_ioc &lt;chr&gt; | loser_age &lt;dbl&gt; | round &lt;chr&gt; | minutes &lt;dbl&gt; | winner_rank &lt;dbl&gt; | loser_rank &lt;dbl&gt; |\n",
       "|---|---|---|---|---|---|---|---|---|---|---|---|---|---|---|---|---|\n",
       "| 2019-M020 | Brisbane | A | 2  | Kei Nishikori      | R | JPN | 29.00479 | 4  | Daniil Medvedev    | R | RUS | 22.88569 | F  | 124 |   9 |  16 |\n",
       "| 2019-M020 | Brisbane | A | 4  | Daniil Medvedev    | R | RUS | 22.88569 | NA | Jo Wilfried Tsonga | R | FRA | 33.70568 | SF |  82 |  16 | 239 |\n",
       "| 2019-M020 | Brisbane | A | 2  | Kei Nishikori      | R | JPN | 29.00479 | NA | Jeremy Chardy      | R | FRA | 31.88227 | SF |  66 |   9 |  40 |\n",
       "| 2019-M020 | Brisbane | A | NA | Jo Wilfried Tsonga | R | FRA | 33.70568 | 7  | Alex De Minaur     | R | AUS | 19.86858 | QF | 106 | 239 |  31 |\n",
       "| 2019-M020 | Brisbane | A | 4  | Daniil Medvedev    | R | RUS | 22.88569 | 5  | Milos Raonic       | R | CAN | 28.01095 | QF | 129 |  16 |  18 |\n",
       "| 2019-M020 | Brisbane | A | NA | Jeremy Chardy      | R | FRA | 31.88227 | NA | Yasutaka Uchiyama  | R | JPN | 26.40383 | QF | 127 |  40 | 185 |\n",
       "\n"
      ],
      "text/plain": [
       "  tourney_id tourney_name tourney_level winner_seed winner_name       \n",
       "1 2019-M020  Brisbane     A             2           Kei Nishikori     \n",
       "2 2019-M020  Brisbane     A             4           Daniil Medvedev   \n",
       "3 2019-M020  Brisbane     A             2           Kei Nishikori     \n",
       "4 2019-M020  Brisbane     A             NA          Jo Wilfried Tsonga\n",
       "5 2019-M020  Brisbane     A             4           Daniil Medvedev   \n",
       "6 2019-M020  Brisbane     A             NA          Jeremy Chardy     \n",
       "  winner_hand winner_ioc winner_age loser_seed loser_name         loser_hand\n",
       "1 R           JPN        29.00479   4          Daniil Medvedev    R         \n",
       "2 R           RUS        22.88569   NA         Jo Wilfried Tsonga R         \n",
       "3 R           JPN        29.00479   NA         Jeremy Chardy      R         \n",
       "4 R           FRA        33.70568   7          Alex De Minaur     R         \n",
       "5 R           RUS        22.88569   5          Milos Raonic       R         \n",
       "6 R           FRA        31.88227   NA         Yasutaka Uchiyama  R         \n",
       "  loser_ioc loser_age round minutes winner_rank loser_rank\n",
       "1 RUS       22.88569  F     124       9          16       \n",
       "2 FRA       33.70568  SF     82      16         239       \n",
       "3 FRA       31.88227  SF     66       9          40       \n",
       "4 AUS       19.86858  QF    106     239          31       \n",
       "5 CAN       28.01095  QF    129      16          18       \n",
       "6 JPN       26.40383  QF    127      40         185       "
      ]
     },
     "metadata": {},
     "output_type": "display_data"
    },
    {
     "data": {
      "text/html": [
       "<table>\n",
       "<caption>A tibble: 6 × 17</caption>\n",
       "<thead>\n",
       "\t<tr><th scope=col>tourney_id</th><th scope=col>tourney_name</th><th scope=col>tourney_level</th><th scope=col>winner_seed</th><th scope=col>winner_name</th><th scope=col>winner_hand</th><th scope=col>winner_ioc</th><th scope=col>winner_age</th><th scope=col>loser_seed</th><th scope=col>loser_name</th><th scope=col>loser_hand</th><th scope=col>loser_ioc</th><th scope=col>loser_age</th><th scope=col>round</th><th scope=col>minutes</th><th scope=col>winner_rank</th><th scope=col>loser_rank</th></tr>\n",
       "\t<tr><th scope=col>&lt;chr&gt;</th><th scope=col>&lt;chr&gt;</th><th scope=col>&lt;chr&gt;</th><th scope=col>&lt;chr&gt;</th><th scope=col>&lt;chr&gt;</th><th scope=col>&lt;chr&gt;</th><th scope=col>&lt;chr&gt;</th><th scope=col>&lt;dbl&gt;</th><th scope=col>&lt;chr&gt;</th><th scope=col>&lt;chr&gt;</th><th scope=col>&lt;chr&gt;</th><th scope=col>&lt;chr&gt;</th><th scope=col>&lt;dbl&gt;</th><th scope=col>&lt;chr&gt;</th><th scope=col>&lt;dbl&gt;</th><th scope=col>&lt;dbl&gt;</th><th scope=col>&lt;dbl&gt;</th></tr>\n",
       "</thead>\n",
       "<tbody>\n",
       "\t<tr><td>2017-0605                     </td><td>Tour Finals               </td><td>F</td><td>7.0</td><td>David Goffin      </td><td>R</td><td>BEL</td><td>26.93498</td><td>2.0</td><td>Roger Federer     </td><td>R</td><td>SUI</td><td>36.26557</td><td>SF</td><td>105</td><td> 8</td><td> 2</td></tr>\n",
       "\t<tr><td>2017-0605                     </td><td>Tour Finals               </td><td>F</td><td>6.0</td><td>Grigor Dimitrov   </td><td>R</td><td>BUL</td><td>26.49692</td><td>7.0</td><td>David Goffin      </td><td>R</td><td>BEL</td><td>26.93498</td><td>F </td><td>150</td><td> 6</td><td> 8</td></tr>\n",
       "\t<tr><td>2017-M-DC-2017-WG-M-BEL-FRA-01</td><td>Davis Cup WG F: BEL vs FRA</td><td>D</td><td>NA </td><td>David Goffin      </td><td>R</td><td>BEL</td><td>26.95414</td><td>NA </td><td>Lucas Pouille     </td><td>R</td><td>FRA</td><td>23.73990</td><td>RR</td><td>119</td><td> 7</td><td>18</td></tr>\n",
       "\t<tr><td>2017-M-DC-2017-WG-M-BEL-FRA-01</td><td>Davis Cup WG F: BEL vs FRA</td><td>D</td><td>NA </td><td>Jo Wilfried Tsonga</td><td>R</td><td>FRA</td><td>32.59411</td><td>NA </td><td>Steve Darcis      </td><td>R</td><td>BEL</td><td>33.68925</td><td>RR</td><td>106</td><td>15</td><td>76</td></tr>\n",
       "\t<tr><td>2017-M-DC-2017-WG-M-BEL-FRA-01</td><td>Davis Cup WG F: BEL vs FRA</td><td>D</td><td>NA </td><td>David Goffin      </td><td>R</td><td>BEL</td><td>26.95414</td><td>NA </td><td>Jo Wilfried Tsonga</td><td>R</td><td>FRA</td><td>32.59411</td><td>RR</td><td>164</td><td> 7</td><td>15</td></tr>\n",
       "\t<tr><td>2017-M-DC-2017-WG-M-BEL-FRA-01</td><td>Davis Cup WG F: BEL vs FRA</td><td>D</td><td>NA </td><td>Lucas Pouille     </td><td>R</td><td>FRA</td><td>23.73990</td><td>NA </td><td>Steve Darcis      </td><td>R</td><td>BEL</td><td>33.68925</td><td>RR</td><td> 94</td><td>18</td><td>76</td></tr>\n",
       "</tbody>\n",
       "</table>\n"
      ],
      "text/latex": [
       "A tibble: 6 × 17\n",
       "\\begin{tabular}{lllllllllllllllll}\n",
       " tourney\\_id & tourney\\_name & tourney\\_level & winner\\_seed & winner\\_name & winner\\_hand & winner\\_ioc & winner\\_age & loser\\_seed & loser\\_name & loser\\_hand & loser\\_ioc & loser\\_age & round & minutes & winner\\_rank & loser\\_rank\\\\\n",
       " <chr> & <chr> & <chr> & <chr> & <chr> & <chr> & <chr> & <dbl> & <chr> & <chr> & <chr> & <chr> & <dbl> & <chr> & <dbl> & <dbl> & <dbl>\\\\\n",
       "\\hline\n",
       "\t 2017-0605                      & Tour Finals                & F & 7.0 & David Goffin       & R & BEL & 26.93498 & 2.0 & Roger Federer      & R & SUI & 36.26557 & SF & 105 &  8 &  2\\\\\n",
       "\t 2017-0605                      & Tour Finals                & F & 6.0 & Grigor Dimitrov    & R & BUL & 26.49692 & 7.0 & David Goffin       & R & BEL & 26.93498 & F  & 150 &  6 &  8\\\\\n",
       "\t 2017-M-DC-2017-WG-M-BEL-FRA-01 & Davis Cup WG F: BEL vs FRA & D & NA  & David Goffin       & R & BEL & 26.95414 & NA  & Lucas Pouille      & R & FRA & 23.73990 & RR & 119 &  7 & 18\\\\\n",
       "\t 2017-M-DC-2017-WG-M-BEL-FRA-01 & Davis Cup WG F: BEL vs FRA & D & NA  & Jo Wilfried Tsonga & R & FRA & 32.59411 & NA  & Steve Darcis       & R & BEL & 33.68925 & RR & 106 & 15 & 76\\\\\n",
       "\t 2017-M-DC-2017-WG-M-BEL-FRA-01 & Davis Cup WG F: BEL vs FRA & D & NA  & David Goffin       & R & BEL & 26.95414 & NA  & Jo Wilfried Tsonga & R & FRA & 32.59411 & RR & 164 &  7 & 15\\\\\n",
       "\t 2017-M-DC-2017-WG-M-BEL-FRA-01 & Davis Cup WG F: BEL vs FRA & D & NA  & Lucas Pouille      & R & FRA & 23.73990 & NA  & Steve Darcis       & R & BEL & 33.68925 & RR &  94 & 18 & 76\\\\\n",
       "\\end{tabular}\n"
      ],
      "text/markdown": [
       "\n",
       "A tibble: 6 × 17\n",
       "\n",
       "| tourney_id &lt;chr&gt; | tourney_name &lt;chr&gt; | tourney_level &lt;chr&gt; | winner_seed &lt;chr&gt; | winner_name &lt;chr&gt; | winner_hand &lt;chr&gt; | winner_ioc &lt;chr&gt; | winner_age &lt;dbl&gt; | loser_seed &lt;chr&gt; | loser_name &lt;chr&gt; | loser_hand &lt;chr&gt; | loser_ioc &lt;chr&gt; | loser_age &lt;dbl&gt; | round &lt;chr&gt; | minutes &lt;dbl&gt; | winner_rank &lt;dbl&gt; | loser_rank &lt;dbl&gt; |\n",
       "|---|---|---|---|---|---|---|---|---|---|---|---|---|---|---|---|---|\n",
       "| 2017-0605                      | Tour Finals                | F | 7.0 | David Goffin       | R | BEL | 26.93498 | 2.0 | Roger Federer      | R | SUI | 36.26557 | SF | 105 |  8 |  2 |\n",
       "| 2017-0605                      | Tour Finals                | F | 6.0 | Grigor Dimitrov    | R | BUL | 26.49692 | 7.0 | David Goffin       | R | BEL | 26.93498 | F  | 150 |  6 |  8 |\n",
       "| 2017-M-DC-2017-WG-M-BEL-FRA-01 | Davis Cup WG F: BEL vs FRA | D | NA  | David Goffin       | R | BEL | 26.95414 | NA  | Lucas Pouille      | R | FRA | 23.73990 | RR | 119 |  7 | 18 |\n",
       "| 2017-M-DC-2017-WG-M-BEL-FRA-01 | Davis Cup WG F: BEL vs FRA | D | NA  | Jo Wilfried Tsonga | R | FRA | 32.59411 | NA  | Steve Darcis       | R | BEL | 33.68925 | RR | 106 | 15 | 76 |\n",
       "| 2017-M-DC-2017-WG-M-BEL-FRA-01 | Davis Cup WG F: BEL vs FRA | D | NA  | David Goffin       | R | BEL | 26.95414 | NA  | Jo Wilfried Tsonga | R | FRA | 32.59411 | RR | 164 |  7 | 15 |\n",
       "| 2017-M-DC-2017-WG-M-BEL-FRA-01 | Davis Cup WG F: BEL vs FRA | D | NA  | Lucas Pouille      | R | FRA | 23.73990 | NA  | Steve Darcis       | R | BEL | 33.68925 | RR |  94 | 18 | 76 |\n",
       "\n"
      ],
      "text/plain": [
       "  tourney_id                     tourney_name               tourney_level\n",
       "1 2017-0605                      Tour Finals                F            \n",
       "2 2017-0605                      Tour Finals                F            \n",
       "3 2017-M-DC-2017-WG-M-BEL-FRA-01 Davis Cup WG F: BEL vs FRA D            \n",
       "4 2017-M-DC-2017-WG-M-BEL-FRA-01 Davis Cup WG F: BEL vs FRA D            \n",
       "5 2017-M-DC-2017-WG-M-BEL-FRA-01 Davis Cup WG F: BEL vs FRA D            \n",
       "6 2017-M-DC-2017-WG-M-BEL-FRA-01 Davis Cup WG F: BEL vs FRA D            \n",
       "  winner_seed winner_name        winner_hand winner_ioc winner_age loser_seed\n",
       "1 7.0         David Goffin       R           BEL        26.93498   2.0       \n",
       "2 6.0         Grigor Dimitrov    R           BUL        26.49692   7.0       \n",
       "3 NA          David Goffin       R           BEL        26.95414   NA        \n",
       "4 NA          Jo Wilfried Tsonga R           FRA        32.59411   NA        \n",
       "5 NA          David Goffin       R           BEL        26.95414   NA        \n",
       "6 NA          Lucas Pouille      R           FRA        23.73990   NA        \n",
       "  loser_name         loser_hand loser_ioc loser_age round minutes winner_rank\n",
       "1 Roger Federer      R          SUI       36.26557  SF    105      8         \n",
       "2 David Goffin       R          BEL       26.93498  F     150      6         \n",
       "3 Lucas Pouille      R          FRA       23.73990  RR    119      7         \n",
       "4 Steve Darcis       R          BEL       33.68925  RR    106     15         \n",
       "5 Jo Wilfried Tsonga R          FRA       32.59411  RR    164      7         \n",
       "6 Steve Darcis       R          BEL       33.68925  RR     94     18         \n",
       "  loser_rank\n",
       "1  2        \n",
       "2  8        \n",
       "3 18        \n",
       "4 76        \n",
       "5 15        \n",
       "6 76        "
      ]
     },
     "metadata": {},
     "output_type": "display_data"
    }
   ],
   "source": [
    "data = select(data, tourney_id, tourney_name, tourney_level, winner_seed, winner_name, winner_hand, winner_ioc, winner_age, loser_seed, loser_name, loser_hand, loser_ioc, loser_age, round, minutes, winner_rank, loser_rank)\n",
    "\n",
    "head(data)\n",
    "tail(data)"
   ]
  },
  {
   "cell_type": "markdown",
   "metadata": {},
   "source": []
  }
 ],
 "metadata": {
  "kernelspec": {
   "display_name": "R",
   "language": "R",
   "name": "ir"
  },
  "language_info": {
   "codemirror_mode": "r",
   "file_extension": ".r",
   "mimetype": "text/x-r-source",
   "name": "R",
   "pygments_lexer": "r",
   "version": "3.6.2"
  }
 },
 "nbformat": 4,
 "nbformat_minor": 4
}
